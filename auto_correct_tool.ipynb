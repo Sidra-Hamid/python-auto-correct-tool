{
 "cells": [
  {
   "cell_type": "markdown",
   "id": "411a4b0e",
   "metadata": {},
   "source": [
    "# Text Preprocessing\n",
    "## tokenization, lowercase, punctuation removal"
   ]
  },
  {
   "cell_type": "code",
   "execution_count": 6,
   "id": "642df72e",
   "metadata": {},
   "outputs": [],
   "source": [
    "import re\n",
    "import nltk\n",
    "from collections import Counter\n",
    "from nltk.corpus import words\n",
    "from nltk.metrics.distance import edit_distance"
   ]
  },
  {
   "cell_type": "code",
   "execution_count": 2,
   "id": "9fb01177",
   "metadata": {},
   "outputs": [],
   "source": [
    "def preprocess_text(text):\n",
    "    text = text.lower()\n",
    "    text = re.sub(r'[^a-z\\s]', '', text)\n",
    "    words = text.split()\n",
    "    return words"
   ]
  },
  {
   "cell_type": "markdown",
   "id": "23bc8571",
   "metadata": {},
   "source": [
    "# Word Checking\n",
    "## To check if a word is misspelled, we’ll compare it against a dictionary of correctly spelled words. We can use nltk's words corpus."
   ]
  },
  {
   "cell_type": "code",
   "execution_count": 8,
   "id": "ee42fa16",
   "metadata": {},
   "outputs": [
    {
     "name": "stderr",
     "output_type": "stream",
     "text": [
      "[nltk_data] Downloading package words to\n",
      "[nltk_data]     C:\\Users\\PC\\AppData\\Roaming\\nltk_data...\n",
      "[nltk_data]   Unzipping corpora\\words.zip.\n"
     ]
    },
    {
     "data": {
      "text/plain": [
       "True"
      ]
     },
     "execution_count": 8,
     "metadata": {},
     "output_type": "execute_result"
    }
   ],
   "source": [
    "nltk.download('words')"
   ]
  },
  {
   "cell_type": "code",
   "execution_count": 9,
   "id": "8b115e34",
   "metadata": {},
   "outputs": [],
   "source": [
    "correct_words = set(words.words())"
   ]
  },
  {
   "cell_type": "code",
   "execution_count": 10,
   "id": "af0da410",
   "metadata": {},
   "outputs": [],
   "source": [
    "def is_correct_word(word):\n",
    "    return word in correct_words"
   ]
  },
  {
   "cell_type": "markdown",
   "id": "2bd01cf8",
   "metadata": {},
   "source": [
    "# Generate Suggestions\n",
    "## Using Edit Distance (Levenshtein Distance): Calculate the number of edits needed to transform one word into another approach."
   ]
  },
  {
   "cell_type": "code",
   "execution_count": 11,
   "id": "1be4eb6b",
   "metadata": {},
   "outputs": [],
   "source": [
    "from nltk.metrics.distance import edit_distance"
   ]
  },
  {
   "cell_type": "code",
   "execution_count": 12,
   "id": "7060226f",
   "metadata": {},
   "outputs": [],
   "source": [
    "def get_suggestions(word, n=3):\n",
    "    suggestions = sorted(correct_words, key=lambda w: edit_distance(word, w))[:n]\n",
    "    return suggestions"
   ]
  },
  {
   "cell_type": "markdown",
   "id": "39bb6a79",
   "metadata": {},
   "source": [
    "# Correction\n",
    "## Replace the misspelled words with their best suggestions. We will take the top suggestion."
   ]
  },
  {
   "cell_type": "code",
   "execution_count": 13,
   "id": "89bc45fa",
   "metadata": {},
   "outputs": [],
   "source": [
    "def autocorrect(text):\n",
    "    words = preprocess_text(text)\n",
    "    corrected_text = []\n",
    "    \n",
    "    for word in words:\n",
    "        if is_correct_word(word):\n",
    "            corrected_text.append(word)\n",
    "        else:\n",
    "            suggestions = get_suggestions(word)\n",
    "            best_suggestion = suggestions[0] if suggestions else word\n",
    "            corrected_text.append(best_suggestion)\n",
    "    \n",
    "    return ' '.join(corrected_text)"
   ]
  },
  {
   "cell_type": "code",
   "execution_count": 16,
   "id": "8ffe6102",
   "metadata": {},
   "outputs": [
    {
     "name": "stdout",
     "output_type": "stream",
     "text": [
      "Original Text: This is an exmple of misspelld sentnce.\n",
      "Corrected Text: this is an example of misspell sentence\n"
     ]
    }
   ],
   "source": [
    "input_text = \"This is an exmple of misspelld sentnce.\"\n",
    "corrected_text = autocorrect(input_text)\n",
    "print(\"Original Text:\", input_text)\n",
    "print(\"Corrected Text:\", corrected_text)"
   ]
  },
  {
   "cell_type": "code",
   "execution_count": null,
   "id": "37785003",
   "metadata": {},
   "outputs": [],
   "source": []
  }
 ],
 "metadata": {
  "kernelspec": {
   "display_name": "Python 3 (ipykernel)",
   "language": "python",
   "name": "python3"
  },
  "language_info": {
   "codemirror_mode": {
    "name": "ipython",
    "version": 3
   },
   "file_extension": ".py",
   "mimetype": "text/x-python",
   "name": "python",
   "nbconvert_exporter": "python",
   "pygments_lexer": "ipython3",
   "version": "3.11.5"
  }
 },
 "nbformat": 4,
 "nbformat_minor": 5
}
